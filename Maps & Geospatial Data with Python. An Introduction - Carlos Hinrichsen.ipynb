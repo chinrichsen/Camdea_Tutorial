{
 "cells": [
  {
   "cell_type": "markdown",
   "metadata": {},
   "source": [
    "### CAMDEA Tutorial: \n",
    "#### *Maps & Geospatial Data with Python. An Introduction*\n",
    "#### Carlos Hinrichsen"
   ]
  },
  {
   "cell_type": "markdown",
   "metadata": {},
   "source": [
    "## 1. Import Required Libraries"
   ]
  },
  {
   "cell_type": "code",
   "execution_count": 1,
   "metadata": {},
   "outputs": [],
   "source": [
    "from sklearn.cluster import AgglomerativeClustering\n",
    "from sklearn import preprocessing\n",
    "import pandas as pd\n",
    "import folium\n",
    "from folium.plugins import FloatImage"
   ]
  },
  {
   "cell_type": "markdown",
   "metadata": {},
   "source": [
    "## 2. Applied Introduction to maps (using Folium)"
   ]
  },
  {
   "cell_type": "markdown",
   "metadata": {},
   "source": [
    "Imagine that we want to see a map centered in Union Station. First, we need to get its coordinates (using for example https://www.google.ca/maps)"
   ]
  },
  {
   "cell_type": "code",
   "execution_count": null,
   "metadata": {},
   "outputs": [],
   "source": [
    "#Define coordinates of Union Station\n",
    "coord_1 = [43.645392415465025, -79.38055543136053]\n",
    "\n",
    "#Create the map\n",
    "map_1 = folium.Map(location = coord_1, zoom_start = 25, tiles = \"OpenStreetMap\")\n",
    "\n",
    "#Display the map\n",
    "map_1"
   ]
  },
  {
   "cell_type": "code",
   "execution_count": null,
   "metadata": {},
   "outputs": [],
   "source": [
    "map_1.save(\"Union_Station_map.html\")"
   ]
  },
  {
   "cell_type": "markdown",
   "metadata": {},
   "source": [
    "What if we need another kind of map representation (or tile)"
   ]
  },
  {
   "cell_type": "code",
   "execution_count": null,
   "metadata": {},
   "outputs": [],
   "source": [
    "#Define coordinates of McMaster University Student Centre\n",
    "coord_1 = [43.645392415465025, -79.38055543136053]\n",
    "\n",
    "# Define the tile\n",
    "Tile = \"OpenStreetMap\" # Default\n",
    "#Tile = \"Stamen Terrain\"\n",
    "#Tile = \"Stamen Toner\"\n",
    "# Tile = \"Stamen Watercolor\"\n",
    "\n",
    "#Create the map\n",
    "map_1 = folium.Map(location = coord_1, zoom_start = 17, tiles = Tile)\n",
    "\n",
    "#Display the map\n",
    "map_1"
   ]
  },
  {
   "cell_type": "markdown",
   "metadata": {},
   "source": [
    "Now, let's see some landmarks and attractions of Toronto (Ripley's Aquarium, CN Tower, Scotiabank Arena, Rogers Center and Billy Bishop Airport). We will use icon to show the places (different icons could be found in https://fontawesome.com/v4.7.0/icons/)"
   ]
  },
  {
   "cell_type": "code",
   "execution_count": null,
   "metadata": {},
   "outputs": [],
   "source": [
    "# First we have the coordinates\n",
    "coord = [(43.64269861204067, -79.38595014407835),\n",
    "           (43.64265328493354, -79.38690442791803),\n",
    "           (43.643538375675675, -79.37913138624386),\n",
    "           (43.64185358648617, -79.38912529689352),\n",
    "           (43.6283858229396, -79.39622581292689)\n",
    "        ]\n",
    "# Define color pallete\n",
    "cl = ['green', 'lightblue', 'purple', 'pink', 'lightgray', 'beige', 'orange', 'red', 'blue', 'lightgreen', 'lightred', 'white', 'darkblue', 'cadetblue', 'darkgreen', 'gray', 'black', 'darkpurple', 'darkred']\n",
    "\n",
    "# Map centered in Ripley's Aquarium\n",
    "map_2 = folium.Map(location=[43.64269861204067, -79.38595014407835], control_scale=True, zoom_start=15)\n",
    "# Now we add an icon and color for each location\n",
    "for i in range(len(coord)):\n",
    "    folium.Marker([coord[i][0], coord[i][1]], icon=folium.Icon(color=cl[i], icon='info-sign')).add_to(map_2)\n",
    "map_2"
   ]
  },
  {
   "cell_type": "markdown",
   "metadata": {},
   "source": [
    "Finally, we will add their respective webpages (clicking the icon) and the landmark names (when moving over the icon)"
   ]
  },
  {
   "cell_type": "code",
   "execution_count": null,
   "metadata": {},
   "outputs": [],
   "source": [
    "web = ['<a href=\"https://www.ripleyaquariums.com/canada/\" target=\"_blank\">\"Ripleys Aquarium\"</a>',\n",
    "           '<a href=\"https://www.cntower.ca/en-ca/home.html\" target=\"_blank\">\"CN Tower\"</a>',\n",
    "           '<a href=\"https://www.scotiabankarena.com/\" target=\"_blank\">\"Scotiabank Arena\"</a>',\n",
    "           '<a href=\"https://www.mlb.com/bluejays/ballpark/information\" target=\"_blank\">\"Rogers Center\"</a>',\n",
    "           '<a href=\"https://www.billybishopairport.com/\" target=\"_blank\">\"Billy Bishop Airport\"</a>'\n",
    "        ]\n",
    "Names = [\"Ripley's Aquarium\", \"CN Tower\", \"Scotiabank Arena\", \"Rogers Center\", \"Billy Bishop Airport\"]\n",
    "\n",
    "# Map centered in Ripley's Aquarium\n",
    "map_3 = folium.Map(location=[43.64269861204067, -79.38595014407835], control_scale=True, zoom_start=15)\n",
    "# Now we add an icon and color for each location\n",
    "for i in range(len(coord)):\n",
    "    folium.Marker([coord[i][0], coord[i][1]], popup=web[i], tooltip=Names[i],icon=folium.Icon(color=cl[i], icon='info-sign')).add_to(map_3)\n",
    "map_3"
   ]
  },
  {
   "cell_type": "code",
   "execution_count": null,
   "metadata": {},
   "outputs": [],
   "source": [
    "map_3.save(\"Toronto.html\")"
   ]
  },
  {
   "cell_type": "markdown",
   "metadata": {},
   "source": [
    "If you want to explore more options regarding different elements in these maps, please visit https://python-visualization.github.io/folium/"
   ]
  },
  {
   "cell_type": "markdown",
   "metadata": {},
   "source": [
    "## 3. Visualizing Hierarchical Clustering results using maps"
   ]
  },
  {
   "cell_type": "markdown",
   "metadata": {},
   "source": [
    "#### Data Set"
   ]
  },
  {
   "cell_type": "markdown",
   "metadata": {},
   "source": [
    "### Real Estate Valuation Data Set \n",
    "\n",
    "We will use the data set of Real Estate, provided in the webpage of the UCI Machine Learning Repository: https://archive.ics.uci.edu/ml/datasets/Real+estate+valuation+data+set"
   ]
  },
  {
   "cell_type": "markdown",
   "metadata": {},
   "source": [
    "### Data Set Information:\n",
    "\n",
    "1. The house price, `house price of unit area`, is the response variable (Y). The units are ($10000$ New Taiwan Dollar/Ping), where Ping is a local unit, $1$ Ping = $3.3$ meter squared)\n",
    "\n",
    "On the other hand, we have the following potential predictors:\n",
    "\n",
    "1. `transaction date`: For example, 2013.250 = 2013 March, 2013.500 = 2013 June, etc.\n",
    "2. `house age`: Measured in years\n",
    "3. `distance to the nearest MRT station`: Measured in meters \n",
    "4. `number of convenience stores`: The number of convenience stores in the living circle on foot\n",
    "5. `latitude`: Measured in degrees\n",
    "6. `longitude`: Measured in degrees"
   ]
  },
  {
   "cell_type": "markdown",
   "metadata": {},
   "source": [
    "#### Upload the `Real estate valuation data set.xlsx`"
   ]
  },
  {
   "cell_type": "code",
   "execution_count": null,
   "metadata": {},
   "outputs": [],
   "source": [
    "data = pd.read_excel('Real estate valuation data set.xlsx', header=[0],sheet_name=\"Data\")"
   ]
  },
  {
   "cell_type": "markdown",
   "metadata": {},
   "source": [
    "#### Data Cleaning and Transformation\n",
    "\n",
    "The idea for this exercise is to understand how likely are the houses in terms of  `house age`, `distance to the nearest MRT station`and `number of convenience stores`. We will need `latitude`and `longitude` for plotting purposes:"
   ]
  },
  {
   "cell_type": "code",
   "execution_count": null,
   "metadata": {},
   "outputs": [],
   "source": [
    "data.columns"
   ]
  },
  {
   "cell_type": "code",
   "execution_count": null,
   "metadata": {},
   "outputs": [],
   "source": [
    "# Getting only the important info\n",
    "data_f = data.drop(['No','X1 transaction date',\n",
    "       'Y house price of unit area'], axis=1)"
   ]
  },
  {
   "cell_type": "code",
   "execution_count": null,
   "metadata": {},
   "outputs": [],
   "source": [
    "data_f.head()"
   ]
  },
  {
   "cell_type": "code",
   "execution_count": null,
   "metadata": {},
   "outputs": [],
   "source": [
    "# Remaning the default variable name\n",
    "data_f.rename(columns={'X2 house age':'AGE','X3 distance to the nearest MRT station':'DST','X4 number of convenience stores':'STR','X5 latitude':'LAT','X6 longitude':'LONG'},inplace=True)"
   ]
  },
  {
   "cell_type": "code",
   "execution_count": null,
   "metadata": {},
   "outputs": [],
   "source": [
    "data_f.info()"
   ]
  },
  {
   "cell_type": "markdown",
   "metadata": {},
   "source": [
    "#### Plotting using Folium"
   ]
  },
  {
   "cell_type": "code",
   "execution_count": null,
   "metadata": {},
   "outputs": [],
   "source": [
    "# Initial geographic points\n",
    "lat_i = data_f['LAT'].mean()\n",
    "long_i = data_f['LONG'].mean()\n",
    "# Create a Map instance\n",
    "#m1 = folium.Map(location=[lat_i,long_i],\n",
    "#    zoom_start=13, control_scale=True,\n",
    "#               tiles='Stamen Terrain'\n",
    "#              )\n",
    "\n",
    "m1 = folium.Map(location=[lat_i,long_i],\n",
    "    zoom_start=13, control_scale=True,\n",
    "               )\n",
    "\n",
    "for i in range(len(data_f['LONG'])):\n",
    "    folium.Marker([data_f['LAT'][i], data_f['LONG'][i]], tooltip=data_f['AGE'][i]).add_to(m1)\n",
    "m1"
   ]
  },
  {
   "cell_type": "markdown",
   "metadata": {},
   "source": [
    "#### Clustering Analysis"
   ]
  },
  {
   "cell_type": "markdown",
   "metadata": {},
   "source": [
    "The main purpose of this analysis is to understand if houses that have similar characteristics could have similar locations.\n",
    "\n",
    "We will use the hierarchical clustering algorithm:\n",
    "\n",
    "## Hierarchical Clustering "
   ]
  },
  {
   "cell_type": "markdown",
   "metadata": {},
   "source": [
    "As explained above, the main purpose of the clustering is to understand if the houses with similar characteristics could have similar locations.\n",
    "\n",
    "For the purpose of this tutorial we will choose a number of clusters equal to 3"
   ]
  },
  {
   "cell_type": "code",
   "execution_count": null,
   "metadata": {},
   "outputs": [],
   "source": [
    "# Coordinates\n",
    "coord_f = data_f.drop(['AGE','DST','STR'], axis=1)\n",
    "# Final scaled dat\n",
    "data_f2 = data_f.drop(['LAT','LONG'], axis=1)\n",
    "colnames = data_f2.columns\n",
    "data_f3 = preprocessing.scale(data_f2)\n",
    "data_f3 = pd.DataFrame(data=data_f3, columns= colnames)\n",
    "data_f3.head()"
   ]
  },
  {
   "cell_type": "code",
   "execution_count": null,
   "metadata": {},
   "outputs": [],
   "source": [
    "# Create the clusters\n",
    "cluster = AgglomerativeClustering(n_clusters=3, affinity='euclidean', linkage='ward')\n",
    "\n",
    "Clusters = cluster.fit_predict(data_f3)\n",
    "\n",
    "# Add the results to the categorical dataset\n",
    "data_f3['Clusters'] = Clusters"
   ]
  },
  {
   "cell_type": "code",
   "execution_count": null,
   "metadata": {},
   "outputs": [],
   "source": [
    "# Information\n",
    "data_f3.info()"
   ]
  },
  {
   "cell_type": "code",
   "execution_count": null,
   "metadata": {},
   "outputs": [],
   "source": [
    "data_f3.head(30)"
   ]
  },
  {
   "cell_type": "markdown",
   "metadata": {},
   "source": [
    "Now let's plot the different clusters categories:"
   ]
  },
  {
   "cell_type": "markdown",
   "metadata": {},
   "source": [
    "Now let's see this map using the `leaflet` library:\n",
    "\n",
    "In the map, over each house will appear the `Cluster Number` \n",
    "\n",
    "Additionally, each house is coloured by the cluster:\n",
    "* Cluster 1: Red\n",
    "* Cluster 2: Blue\n",
    "* Cluster 3: Orange"
   ]
  },
  {
   "cell_type": "code",
   "execution_count": null,
   "metadata": {},
   "outputs": [],
   "source": [
    "# Create a Map instance\n",
    "m2 = folium.Map(location=[lat_i,long_i],\n",
    "    zoom_start=13, control_scale=True)\n",
    "Cluster = 'Clusters'\n",
    "for i in range(len(coord_f['LONG'])):\n",
    "    clust = data_f3[Cluster][i]\n",
    "    if clust == 0:\n",
    "        color = 'red'\n",
    "    elif clust == 1:\n",
    "        color = 'blue'\n",
    "    else:\n",
    "        color = 'orange'\n",
    "    folium.Marker([coord_f['LAT'][i], coord_f['LONG'][i]], tooltip=data_f3[Cluster][i], icon=folium.Icon(color=color, icon='info-sign')).add_to(m2)\n",
    "\n",
    "m2"
   ]
  },
  {
   "cell_type": "code",
   "execution_count": null,
   "metadata": {},
   "outputs": [],
   "source": [
    "m2.save(\"Cluster.html\")"
   ]
  }
 ],
 "metadata": {
  "kernelspec": {
   "display_name": "Python 3",
   "language": "python",
   "name": "python3"
  },
  "language_info": {
   "codemirror_mode": {
    "name": "ipython",
    "version": 3
   },
   "file_extension": ".py",
   "mimetype": "text/x-python",
   "name": "python",
   "nbconvert_exporter": "python",
   "pygments_lexer": "ipython3",
   "version": "3.7.7"
  }
 },
 "nbformat": 4,
 "nbformat_minor": 2
}
